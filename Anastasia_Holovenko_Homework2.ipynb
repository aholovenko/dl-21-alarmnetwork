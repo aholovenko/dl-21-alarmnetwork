{
 "cells": [
  {
   "cell_type": "code",
   "execution_count": 3,
   "id": "7c87756d",
   "metadata": {
    "pycharm": {
     "is_executing": false
    }
   },
   "outputs": [],
   "source": [
    "from generate_data_adding_problem import generate_data\n",
    "from train_models import read_data_adding_problem_torch\n",
    "from train_models import AlarmworkNet\n",
    "from train_models import train_model\n",
    "from train_models import evaluate_model\n",
    "\n",
    "import json\n",
    "import logging\n",
    "import pandas as pd\n",
    "logging.getLogger().addHandler(logging.StreamHandler())"
   ]
  },
  {
   "cell_type": "markdown",
   "id": "83b91199",
   "metadata": {},
   "source": [
    "# 1. Generating data for sequence length 10, 50, 70 and 100"
   ]
  },
  {
   "cell_type": "code",
   "execution_count": 2,
   "id": "7ec50586",
   "metadata": {
    "pycharm": {
     "is_executing": false
    }
   },
   "outputs": [],
   "source": [
    "data_dir = 'adding_problem_data'"
   ]
  },
  {
   "cell_type": "code",
   "execution_count": 19,
   "id": "cbc5766b",
   "metadata": {
    "pycharm": {
     "is_executing": false
    }
   },
   "outputs": [
    {
     "name": "stdout",
     "output_type": "stream",
     "text": [
      "T = 10, 10000 samples saved to adding_problem_data/adding_problem_T=010_train.csv\n",
      "T = 10, 1000 samples saved to adding_problem_data/adding_problem_T=010_dev.csv\n",
      "T = 10, 1000 samples saved to adding_problem_data/adding_problem_T=010_test.csv\n",
      "T = 50, 10000 samples saved to adding_problem_data/adding_problem_T=050_train.csv\n",
      "T = 50, 1000 samples saved to adding_problem_data/adding_problem_T=050_dev.csv\n",
      "T = 50, 1000 samples saved to adding_problem_data/adding_problem_T=050_test.csv\n",
      "T = 70, 10000 samples saved to adding_problem_data/adding_problem_T=070_train.csv\n",
      "T = 70, 1000 samples saved to adding_problem_data/adding_problem_T=070_dev.csv\n",
      "T = 70, 1000 samples saved to adding_problem_data/adding_problem_T=070_test.csv\n",
      "T = 100, 10000 samples saved to adding_problem_data/adding_problem_T=100_train.csv\n",
      "T = 100, 1000 samples saved to adding_problem_data/adding_problem_T=100_dev.csv\n",
      "T = 100, 1000 samples saved to adding_problem_data/adding_problem_T=100_test.csv\n"
     ]
    }
   ],
   "source": [
    "for T in [10, 50, 70, 100]:\n",
    "    generate_data(T, data_dir)"
   ]
  },
  {
   "cell_type": "markdown",
   "id": "2f899051",
   "metadata": {},
   "source": [
    "### Please, check implementation for tasks 2-3 in train_models.py"
   ]
  },
  {
   "cell_type": "markdown",
   "id": "55ce3d07",
   "metadata": {},
   "source": [
    "# 4. Scalar VS vector form"
   ]
  },
  {
   "cell_type": "code",
   "execution_count": 3,
   "id": "08b8903f",
   "metadata": {
    "pycharm": {
     "is_executing": false
    }
   },
   "outputs": [],
   "source": [
    "T = 10\n",
    "NUM_INPUTS = 2\n",
    "NUM_HIDDEN = 50\n",
    "NUM_OUTPUTS = 1\n",
    "\n",
    "X_train, T_train = read_data_adding_problem_torch(f'{data_dir}/adding_problem_T=%03d_train.csv' % T)\n",
    "X_dev, T_dev = read_data_adding_problem_torch(f'{data_dir}/adding_problem_T=%03d_dev.csv' % T)\n",
    "X_test, T_test = read_data_adding_problem_torch(f'{data_dir}/adding_problem_T=%03d_test.csv' % T)"
   ]
  },
  {
   "cell_type": "code",
   "execution_count": 4,
   "id": "ebc08cb2",
   "metadata": {
    "pycharm": {
     "is_executing": false,
     "name": "#%%timeit\n"
    }
   },
   "outputs": [
    {
     "name": "stderr",
     "output_type": "stream",
     "text": [
      "Training model: AlarmworkNet\n",
      "T = 10, epoch = 0, DEV accuracy = 18.3%%\n",
      "T = 10, epoch = 1, DEV accuracy = 38.2%%\n",
      "T = 10, epoch = 2, DEV accuracy = 46.8%%\n",
      "T = 10, epoch = 3, DEV accuracy = 50.1%%\n",
      "T = 10, epoch = 4, DEV accuracy = 58.6%%\n",
      "T = 10, epoch = 5, DEV accuracy = 70.1%%\n",
      "T = 10, epoch = 6, DEV accuracy = 80.6%%\n",
      "T = 10, epoch = 7, DEV accuracy = 85.6%%\n",
      "T = 10, epoch = 8, DEV accuracy = 89.0%%\n",
      "T = 10, epoch = 9, DEV accuracy = 92.6%%\n",
      "T = 10, epoch = 10, DEV accuracy = 95.3%%\n",
      "T = 10, epoch = 11, DEV accuracy = 97.0%%\n",
      "T = 10, epoch = 12, DEV accuracy = 98.6%%\n",
      "T = 10, epoch = 13, DEV accuracy = 99.1%%\n",
      "T = 10, epoch = 14, DEV accuracy = 99.3%%\n",
      "T = 10, epoch = 15, DEV accuracy = 99.6%%\n",
      "Saved model weights to weights/AlarmworkNet_E=50_T=10.pt\n",
      "Elapsed time: 207.5766 seconds\n",
      "TEST accuracy for model AlarmworkNet is 99.7\n"
     ]
    },
    {
     "name": "stdout",
     "output_type": "stream",
     "text": [
      "AlarmworkNet TEST accuracy with LayerOUT in vector form - 99.7\n"
     ]
    }
   ],
   "source": [
    "alarmwork_model = AlarmworkNet(NUM_INPUTS, NUM_HIDDEN, NUM_OUTPUTS)\n",
    "alarmwork_model = train_model(alarmwork_model, X_train, X_dev, T_train, T_dev, T, force=True)\n",
    "alarmwork_test_acc = evaluate_model(alarmwork_model, X_test, T_test)\n",
    "print(f'AlarmworkNet TEST accuracy with LayerOUT in vector form - {alarmwork_test_acc}')"
   ]
  },
  {
   "cell_type": "code",
   "execution_count": 5,
   "id": "3f8c2334",
   "metadata": {
    "pycharm": {
     "is_executing": false,
     "name": "#%%timeit\n"
    }
   },
   "outputs": [
    {
     "name": "stderr",
     "output_type": "stream",
     "text": [
      "Training model: AlarmworkNet\n",
      "T = 10, epoch = 0, DEV accuracy = 13.1%%\n",
      "T = 10, epoch = 1, DEV accuracy = 45.0%%\n",
      "T = 10, epoch = 2, DEV accuracy = 51.2%%\n",
      "T = 10, epoch = 3, DEV accuracy = 56.4%%\n",
      "T = 10, epoch = 4, DEV accuracy = 62.7%%\n",
      "T = 10, epoch = 5, DEV accuracy = 72.0%%\n",
      "T = 10, epoch = 6, DEV accuracy = 81.6%%\n",
      "T = 10, epoch = 7, DEV accuracy = 88.3%%\n",
      "T = 10, epoch = 8, DEV accuracy = 91.9%%\n",
      "T = 10, epoch = 9, DEV accuracy = 93.0%%\n",
      "T = 10, epoch = 10, DEV accuracy = 93.9%%\n",
      "T = 10, epoch = 11, DEV accuracy = 95.2%%\n",
      "T = 10, epoch = 12, DEV accuracy = 96.5%%\n",
      "T = 10, epoch = 13, DEV accuracy = 97.5%%\n",
      "T = 10, epoch = 14, DEV accuracy = 99.1%%\n",
      "T = 10, epoch = 15, DEV accuracy = 99.6%%\n",
      "Saved model weights to weights/AlarmworkNet_E=50_T=10.pt\n",
      "Elapsed time: 664.1118 seconds\n",
      "TEST accuracy for model AlarmworkNet is 99.7\n"
     ]
    },
    {
     "name": "stdout",
     "output_type": "stream",
     "text": [
      "AlarmworkNet TEST accuracy with LayerOUT in scalar form - 99.7\n"
     ]
    }
   ],
   "source": [
    "alarmwork_model = AlarmworkNet(NUM_INPUTS, NUM_HIDDEN, NUM_OUTPUTS, vector_form=False)\n",
    "alarmwork_model = train_model(alarmwork_model, X_train, X_dev, T_train, T_dev, T, force=True)\n",
    "alarmwork_test_acc = evaluate_model(alarmwork_model, X_test, T_test)\n",
    "print(f'AlarmworkNet TEST accuracy with LayerOUT in scalar form - {alarmwork_test_acc}')"
   ]
  },
  {
   "cell_type": "markdown",
   "id": "b400a653",
   "metadata": {},
   "source": [
    "It can be seen that scalar for of $Layer_{out}$ increases the performance time more than 3 times."
   ]
  },
  {
   "cell_type": "markdown",
   "id": "0bea3b22",
   "metadata": {
    "pycharm": {
     "name": "#%%\n"
    }
   },
   "source": [
    "### Please, check implementation for tasks 5 in train_models.py also :)"
   ]
  },
  {
   "cell_type": "markdown",
   "id": "45025f16",
   "metadata": {},
   "source": [
    "## 6. Compare the results"
   ]
  },
  {
   "cell_type": "markdown",
   "id": "d881a383",
   "metadata": {},
   "source": [
    "I saved my interim dev/test results to the results.json file.\n",
    "So to report accuracies - I am loading from that file:"
   ]
  },
  {
   "cell_type": "code",
   "execution_count": 44,
   "id": "ef6227d5",
   "metadata": {},
   "outputs": [],
   "source": [
    "results_file = 'results.json'\n",
    "with open(results_file) as results_input:\n",
    "    results = json.load(results_input)"
   ]
  },
  {
   "cell_type": "code",
   "execution_count": 45,
   "id": "ec82a4d4",
   "metadata": {},
   "outputs": [
    {
     "data": {
      "text/plain": [
       "(['10', '50', '70', '100'],\n",
       " ['SimpleRNNFromBox', 'SimpleLSTMFromBox', 'AlarmworkNet'])"
      ]
     },
     "execution_count": 45,
     "metadata": {},
     "output_type": "execute_result"
    }
   ],
   "source": [
    "times = list(results.keys())\n",
    "networks = list(results[times[0]].keys())\n",
    "times, networks"
   ]
  },
  {
   "cell_type": "code",
   "execution_count": 56,
   "id": "3b9ba9bd",
   "metadata": {},
   "outputs": [
    {
     "data": {
      "text/html": [
       "<div>\n",
       "<style scoped>\n",
       "    .dataframe tbody tr th:only-of-type {\n",
       "        vertical-align: middle;\n",
       "    }\n",
       "\n",
       "    .dataframe tbody tr th {\n",
       "        vertical-align: top;\n",
       "    }\n",
       "\n",
       "    .dataframe thead th {\n",
       "        text-align: right;\n",
       "    }\n",
       "</style>\n",
       "<table border=\"1\" class=\"dataframe\">\n",
       "  <thead>\n",
       "    <tr style=\"text-align: right;\">\n",
       "      <th></th>\n",
       "      <th>SimpleRNNFromBox</th>\n",
       "      <th>SimpleLSTMFromBox</th>\n",
       "      <th>AlarmworkNet</th>\n",
       "    </tr>\n",
       "  </thead>\n",
       "  <tbody>\n",
       "    <tr>\n",
       "      <th>10</th>\n",
       "      <td>99.5</td>\n",
       "      <td>100.0</td>\n",
       "      <td>99.8</td>\n",
       "    </tr>\n",
       "    <tr>\n",
       "      <th>50</th>\n",
       "      <td>35.3</td>\n",
       "      <td>35.9</td>\n",
       "      <td>99.0</td>\n",
       "    </tr>\n",
       "    <tr>\n",
       "      <th>70</th>\n",
       "      <td>37.3</td>\n",
       "      <td>36.7</td>\n",
       "      <td>98.0</td>\n",
       "    </tr>\n",
       "    <tr>\n",
       "      <th>100</th>\n",
       "      <td>38.0</td>\n",
       "      <td>37.6</td>\n",
       "      <td>29.9</td>\n",
       "    </tr>\n",
       "  </tbody>\n",
       "</table>\n",
       "</div>"
      ],
      "text/plain": [
       "     SimpleRNNFromBox  SimpleLSTMFromBox  AlarmworkNet\n",
       "10               99.5              100.0          99.8\n",
       "50               35.3               35.9          99.0\n",
       "70               37.3               36.7          98.0\n",
       "100              38.0               37.6          29.9"
      ]
     },
     "execution_count": 56,
     "metadata": {},
     "output_type": "execute_result"
    }
   ],
   "source": [
    "res = {}\n",
    "for n in networks:\n",
    "    res[n] = [results[t][n]['test'] for t in times]\n",
    "df = pd.DataFrame(res, index=times, )\n",
    "df"
   ]
  },
  {
   "cell_type": "code",
   "execution_count": 55,
   "id": "120b4bf1",
   "metadata": {},
   "outputs": [
    {
     "data": {
      "text/html": [
       "<div>\n",
       "<style scoped>\n",
       "    .dataframe tbody tr th:only-of-type {\n",
       "        vertical-align: middle;\n",
       "    }\n",
       "\n",
       "    .dataframe tbody tr th {\n",
       "        vertical-align: top;\n",
       "    }\n",
       "\n",
       "    .dataframe thead th {\n",
       "        text-align: right;\n",
       "    }\n",
       "</style>\n",
       "<table border=\"1\" class=\"dataframe\">\n",
       "  <thead>\n",
       "    <tr style=\"text-align: right;\">\n",
       "      <th></th>\n",
       "      <th>SimpleRNNFromBox</th>\n",
       "      <th>SimpleLSTMFromBox</th>\n",
       "      <th>AlarmworkNet</th>\n",
       "    </tr>\n",
       "  </thead>\n",
       "  <tbody>\n",
       "    <tr>\n",
       "      <th>10</th>\n",
       "      <td>36</td>\n",
       "      <td>25</td>\n",
       "      <td>13</td>\n",
       "    </tr>\n",
       "    <tr>\n",
       "      <th>50</th>\n",
       "      <td>49</td>\n",
       "      <td>49</td>\n",
       "      <td>43</td>\n",
       "    </tr>\n",
       "    <tr>\n",
       "      <th>70</th>\n",
       "      <td>49</td>\n",
       "      <td>49</td>\n",
       "      <td>49</td>\n",
       "    </tr>\n",
       "    <tr>\n",
       "      <th>100</th>\n",
       "      <td>49</td>\n",
       "      <td>49</td>\n",
       "      <td>49</td>\n",
       "    </tr>\n",
       "  </tbody>\n",
       "</table>\n",
       "</div>"
      ],
      "text/plain": [
       "    SimpleRNNFromBox SimpleLSTMFromBox AlarmworkNet\n",
       "10                36                25           13\n",
       "50                49                49           43\n",
       "70                49                49           49\n",
       "100               49                49           49"
      ]
     },
     "execution_count": 55,
     "metadata": {},
     "output_type": "execute_result"
    }
   ],
   "source": [
    "last_epochs = {}\n",
    "for n in networks:\n",
    "    last_epochs[n] = [list(results[t][n]['dev'].keys())[-1] for t in times]\n",
    "last_epochs_df = pd.DataFrame(last_epochs, index=times, )\n",
    "last_epochs_df"
   ]
  },
  {
   "cell_type": "markdown",
   "id": "b1b89e2e",
   "metadata": {},
   "source": [
    "AlarmworkNet couldn't not handle the sequence of length 100 although for all other lengths it sufficiently outperformed the RNN and LSTM networks."
   ]
  },
  {
   "cell_type": "code",
   "execution_count": null,
   "id": "8a90dbeb",
   "metadata": {},
   "outputs": [],
   "source": []
  }
 ],
 "metadata": {
  "kernelspec": {
   "display_name": "Python 3",
   "language": "python",
   "name": "python3"
  },
  "language_info": {
   "codemirror_mode": {
    "name": "ipython",
    "version": 3
   },
   "file_extension": ".py",
   "mimetype": "text/x-python",
   "name": "python",
   "nbconvert_exporter": "python",
   "pygments_lexer": "ipython3",
   "version": "3.8.5"
  },
  "pycharm": {
   "stem_cell": {
    "cell_type": "raw",
    "metadata": {
     "collapsed": false
    },
    "source": []
   }
  }
 },
 "nbformat": 4,
 "nbformat_minor": 5
}
